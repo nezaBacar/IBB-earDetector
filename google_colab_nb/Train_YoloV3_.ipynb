{
  "nbformat": 4,
  "nbformat_minor": 0,
  "metadata": {
    "accelerator": "GPU",
    "colab": {
      "name": "Train_YoloV3 .ipynb",
      "provenance": [],
      "collapsed_sections": []
    },
    "kernelspec": {
      "display_name": "Python 3",
      "name": "python3"
    }
  },
  "cells": [
    {
      "cell_type": "markdown",
      "metadata": {
        "id": "wHBQcQzjD6HJ"
      },
      "source": [
        "**Connect google drive**"
      ]
    },
    {
      "cell_type": "code",
      "metadata": {
        "id": "bwp6NIrsZZFP"
      },
      "source": [
        "# Check if NVIDIA GPU is enabled\n",
        "!nvidia-smi"
      ],
      "execution_count": null,
      "outputs": []
    },
    {
      "cell_type": "code",
      "metadata": {
        "id": "9e9ZW3sqMEPO"
      },
      "source": [
        "from google.colab import drive\n",
        "drive.mount('/content/gdrive')\n",
        "!ln -s /content/gdrive/My\\ Drive/ /mydrive\n",
        "!ls /mydrive"
      ],
      "execution_count": null,
      "outputs": []
    },
    {
      "cell_type": "markdown",
      "metadata": {
        "id": "t7utW4in4azV"
      },
      "source": [
        "**1) Clone the Darknet**\n",
        "\n"
      ]
    },
    {
      "cell_type": "code",
      "metadata": {
        "id": "e03U7Zi-qMr2"
      },
      "source": [
        "!git clone https://github.com/AlexeyAB/darknet"
      ],
      "execution_count": null,
      "outputs": []
    },
    {
      "cell_type": "markdown",
      "metadata": {
        "id": "7gDOF3mU-TAn"
      },
      "source": [
        "**2) Compile Darknet using Nvidia GPU**\n"
      ]
    },
    {
      "cell_type": "code",
      "metadata": {
        "id": "5H-Taj06Tw1c"
      },
      "source": [
        "# change makefile to have GPU and OPENCV enabled\n",
        "%cd darknet\n",
        "!sed -i 's/OPENCV=0/OPENCV=1/' Makefile\n",
        "!sed -i 's/GPU=0/GPU=1/' Makefile\n",
        "!sed -i 's/CUDNN=0/CUDNN=1/' Makefile\n",
        "!make\n"
      ],
      "execution_count": null,
      "outputs": []
    },
    {
      "cell_type": "markdown",
      "metadata": {
        "id": "gAOLtA_qI9vF"
      },
      "source": [
        "**3) Configure Darknet network for training YOLO V3**"
      ]
    },
    {
      "cell_type": "code",
      "metadata": {
        "id": "s-RpscgU853t"
      },
      "source": [
        "!cp cfg/yolov3-tiny.cfg cfg/yolov3tiny_training.cfg"
      ],
      "execution_count": null,
      "outputs": []
    },
    {
      "cell_type": "code",
      "metadata": {
        "id": "5ZgVQRop_vwR"
      },
      "source": [
        "!sed -i 's/batch=1/batch=64/' cfg/yolov3tiny_training.cfg\n",
        "!sed -i 's/subdivisions=8/subdivisions=8/' cfg/yolov3tiny_training.cfg\n",
        "!sed -i 's/max_batches = 500200/max_batches = 4000/' cfg/yolov3tiny_training.cfg\n",
        "!sed -i '135 s@classes=80@classes=1@' cfg/yolov3tiny_training.cfg\n",
        "!sed -i '177 s@classes=80@classes=1@' cfg/yolov3tiny_training.cfg\n",
        "!sed -i '127 s@filters=255@filters=18@' cfg/yolov3tiny_training.cfg\n",
        "!sed -i '171 s@filters=255@filters=18@' cfg/yolov3tiny_training.cfg\n",
        "\n",
        "#!sed -i 's/batch=1/batch=64/' cfg/yolov3_training.cfg\n",
        "#!sed -i 's/subdivisions=1/subdivisions=16/' cfg/yolov3_training.cfg\n",
        "#!sed -i 's/width = 606/width = 416/' cfg/yolov3_training.cfg\n",
        "#!sed -i 's/height = 606/height = 416/' cfg/yolov3_training.cfg\n",
        "#!sed -i 's/max_batches = 500200/max_batches = 4000/' cfg/yolov3_training.cfg\n",
        "#!sed -i '610 s@classes=80@classes=1@' cfg/yolov3_training.cfg\n",
        "#!sed -i '696 s@classes=80@classes=1@' cfg/yolov3_training.cfg\n",
        "#!sed -i '783 s@classes=80@classes=1@' cfg/yolov3_training.cfg\n",
        "#!sed -i '603 s@filters=255@filters=18@' cfg/yolov3_training.cfg\n",
        "#!sed -i '689 s@filters=255@filters=18@' cfg/yolov3_training.cfg\n",
        "#!sed -i '776 s@filters=255@filters=18@' cfg/yolov3_training.cfg\n",
        "\n",
        "#!sed -i 's/batch=64/batch=64/' cfg/yolov3_training.cfg\n",
        "#!sed -i 's/subdivisions=8/subdivisions=64/' cfg/yolov4_training.cfg\n",
        "#!sed -i 's/width = 606/width = 416/' cfg/yolov4_training.cfg\n",
        "#!sed -i 's/height = 606/height = 416/' cfg/yolov4_training.cfg\n",
        "#!sed -i 's/max_batches = 500200/max_batches = 4000/' cfg/yolov4_training.cfg\n",
        "#!sed -i '968 s@classes=80@classes=1@' cfg/yolov4_training.cfg\n",
        "#!sed -i '1056 s@classes=80@classes=1@' cfg/yolov4_training.cfg\n",
        "#!sed -i '1144 s@classes=80@classes=1@' cfg/yolov4_training.cfg\n",
        "#!sed -i '1049 s@filters=255@filters=18@' cfg/yolov4_training.cfg\n",
        "#!sed -i '1137 s@filters=255@filters=18@' cfg/yolov4_training.cfg\n",
        "#!sed -i '961 s@filters=255@filters=18@' cfg/yolov4_training.cfg\n"
      ],
      "execution_count": null,
      "outputs": []
    },
    {
      "cell_type": "code",
      "metadata": {
        "id": "nscRN-X2Mr3d"
      },
      "source": [
        "# Create folder on google drive so that we can save there the weights\n",
        "!mkdir \"/mydrive/yolov3tiny\""
      ],
      "execution_count": null,
      "outputs": []
    },
    {
      "cell_type": "code",
      "metadata": {
        "id": "7AIBw_psIclz"
      },
      "source": [
        "!echo \"Ears\" > data/objj.names\n",
        "!echo -e 'classes= 1\\ntrain  = data/train.txt\\nvalid  = data/test.txt\\nnames = data/obj.names\\nbackup = /mydrive/yolov3tiny' > data/obj.data\n",
        "!mkdir data/obj"
      ],
      "execution_count": null,
      "outputs": []
    },
    {
      "cell_type": "code",
      "metadata": {
        "id": "eZlkzFMW7I_N"
      },
      "source": [
        "# Download weights darknet model 53\n",
        "#!wget https://pjreddie.com/media/files/yolov4.conv.137\n",
        "!wget https://pjreddie.com/media/files/darknet53.conv.74"
      ],
      "execution_count": null,
      "outputs": []
    },
    {
      "cell_type": "markdown",
      "metadata": {
        "id": "9RbVKJjoncW2"
      },
      "source": [
        "**4) Extract Images**\n",
        "\n",
        "The images need to be inside a zip archive called \"images.zip\" and they need to be inside the folder \"yolov3\" on Google Drive"
      ]
    },
    {
      "cell_type": "code",
      "metadata": {
        "id": "DGUyXxeYX0IP"
      },
      "source": [
        "# We're going to convert the class index on the .txt files. As we're working with only one class, it's supposed to be class 0.\n",
        "# If the index is different from 0 then we're going to change it.\n",
        "import glob\n",
        "import os\n",
        "import re\n",
        "\n",
        "txt_file_paths = glob.glob(\"/mydrive/yolov3/ears/train/*.txt\")\n",
        "for i, file_path in enumerate(txt_file_paths):\n",
        "    # get image size\n",
        "    with open(file_path, \"r\") as f_o:\n",
        "        lines = f_o.readlines()\n",
        "\n",
        "        text_converted = []\n",
        "        for line in lines:\n",
        "            print(line)\n",
        "            numbers = re.findall(\"[0-9.]+\", line)\n",
        "            print(numbers)\n",
        "            if numbers:\n",
        "\n",
        "                # Define coordinates\n",
        "                text = \"{} {} {} {} {}\".format(0, numbers[1], numbers[2], numbers[3], numbers[4])\n",
        "                text_converted.append(text)\n",
        "                print(i, file_path)\n",
        "                print(text)\n",
        "        # Write file\n",
        "        with open(file_path, 'w') as fp:\n",
        "            for item in text_converted:\n",
        "                fp.writelines(\"%s\\n\" % item)"
      ],
      "execution_count": null,
      "outputs": []
    },
    {
      "cell_type": "code",
      "metadata": {
        "id": "5I_0ht7ITMUu"
      },
      "source": [
        "import glob\n",
        "images_list = glob.glob(\"/mydrive/yolov3/ears/train/*.png\")\n",
        "print(images_list)"
      ],
      "execution_count": null,
      "outputs": []
    },
    {
      "cell_type": "markdown",
      "source": [
        ""
      ],
      "metadata": {
        "id": "LudXQ0A9yFUr"
      }
    },
    {
      "cell_type": "code",
      "metadata": {
        "id": "EzygoAtMSnon"
      },
      "source": [
        "#Create training.txt file\n",
        "file = open(\"data/train.txt\", \"w\") \n",
        "file.write(\"\\n\".join(images_list)) \n",
        "file.close()\n"
      ],
      "execution_count": null,
      "outputs": []
    },
    {
      "cell_type": "markdown",
      "metadata": {
        "id": "CeSiuLrXoAjc"
      },
      "source": [
        "**6) Start the training**"
      ]
    },
    {
      "cell_type": "code",
      "metadata": {
        "id": "S3_g3jclUzMm"
      },
      "source": [
        "# Start the training\n",
        "#!./darknet detector train data/obj.data cfg/yolov4_training.cfg yolov4.conv.137 -dont_show\n",
        "#!./darknet detector train data/obj.data cfg/yolov3_training.cfg /mydrive/yolov3/yolov3_training_1000.weights -dont_show\n",
        "!./darknet detector train data/obj.data cfg/yolov3tiny_training.cfg yolov3tiny.conv.15 -dont_show"
      ],
      "execution_count": null,
      "outputs": []
    }
  ]
}